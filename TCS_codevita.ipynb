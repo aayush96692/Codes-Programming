{
 "cells": [
  {
   "cell_type": "code",
   "execution_count": 4,
   "metadata": {},
   "outputs": [
    {
     "name": "stdout",
     "output_type": "stream",
     "text": [
      "5\n",
      "0 82 2 6 7\n",
      "4 3 1 5 21\n",
      "6 4 20 2 8\n",
      "6 6 64 1 8\n",
      "1 65 1 6 4\n",
      "7\n"
     ]
    }
   ],
   "source": [
    "#TCS codevita practice\n",
    "def minCost(cost, m, n):\n",
    "    tc = [[0 for x in range(n)] for x in range(m)] \n",
    "    tc[0][0] = cost[0][0]\n",
    "    \n",
    "    for i in range(1, m): \n",
    "        tc[i][0] = (tc[i-1][0] + cost[i][0])\n",
    "    \n",
    "    for j in range(1, n): \n",
    "        tc[0][j] = (tc[0][j-1] + cost[0][j])\n",
    "    \n",
    "    for i in range(1, m): \n",
    "        for j in range(1, n): \n",
    "            tc[i][j] = (min(tc[i-1][j], \n",
    "                            tc[i][j-1]))//2 + cost[i][j]\n",
    "    return tc[m-1][n-1]\n",
    "    \n",
    "n=int(input())\n",
    "cost=[]\n",
    "for i in range(n):\n",
    "    cost.append(list(map(int,input().split())))\n",
    "print(minCost(cost,n,n))"
   ]
  },
  {
   "cell_type": "code",
   "execution_count": null,
   "metadata": {},
   "outputs": [],
   "source": []
  }
 ],
 "metadata": {
  "kernelspec": {
   "display_name": "Python 3",
   "language": "python",
   "name": "python3"
  },
  "language_info": {
   "codemirror_mode": {
    "name": "ipython",
    "version": 3
   },
   "file_extension": ".py",
   "mimetype": "text/x-python",
   "name": "python",
   "nbconvert_exporter": "python",
   "pygments_lexer": "ipython3",
   "version": "3.7.3"
  }
 },
 "nbformat": 4,
 "nbformat_minor": 2
}

{
 "cells": [
  {
   "cell_type": "code",
   "execution_count": 1,
   "metadata": {},
   "outputs": [
    {
     "name": "stdout",
     "output_type": "stream",
     "text": [
      "1\n",
      "45\n",
      "9\n"
     ]
    }
   ],
   "source": [
    "T=int(input())\n",
    "while(T>0):\n",
    "    N=int(input())\n",
    "    l=[0,1]\n",
    "    a=0\n",
    "    b=1\n",
    "    for i in range(2,N):\n",
    "        l.append((a+b)%10)\n",
    "        a=b\n",
    "        b=l[i]\n",
    "    p=list(l)\n",
    "    while(len(p)!=1):\n",
    "        i=0\n",
    "        while(i<len(l)):\n",
    "            del l[i]\n",
    "            i=i+1\n",
    "        p=list(l)\n",
    "    \n",
    "    print(l[0])\n",
    "    T=T-1"
   ]
  },
  {
   "cell_type": "code",
   "execution_count": null,
   "metadata": {},
   "outputs": [],
   "source": [
    "import itertools as it \n",
    "\n",
    "T=int(input())\n",
    "while(T>0):\n",
    "    N,K=(input().split())\n",
    "    N,K=[int(N),int(K)]\n",
    "    x = list(map(int, input().split()))\n",
    "    \n",
    "    comb=it.combinations(x,K)\n",
    "    map()\n",
    "    p=[]\n",
    "    for i in comb:\n",
    "        Sum=sum(i)\n",
    "        p.append(Sum)\n",
    "    \n",
    "    print(p.count(min(p)))\n",
    "    T=T-1"
   ]
  },
  {
   "cell_type": "code",
   "execution_count": null,
   "metadata": {},
   "outputs": [],
   "source": [
    "import itertools as it \n",
    "\n",
    "N,K=(input().split())\n",
    "N,K=[int(N),int(K)]\n",
    "x = list(map(int, input().split()))\n",
    "ans=long(K+1)\n",
    "for i in range(2,K):\n",
    "    comb=it.combinations(x,i)\n",
    "    k=0\n",
    "    for j in comb:\n",
    "        k=k+1\n",
    "    ans=ans+k\n",
    "m=1000000007\n",
    "print(ans%m)"
   ]
  },
  {
   "cell_type": "code",
   "execution_count": null,
   "metadata": {},
   "outputs": [
    {
     "name": "stdout",
     "output_type": "stream",
     "text": [
      "97\n"
     ]
    }
   ],
   "source": [
    "print(ord('a'))\n",
    "def strScore(str, s, n):  \n",
    "    score = 0\n",
    "    index = 0\n",
    "    for i in range(n):  \n",
    "        if (str[i] == s): \n",
    "            for j in range(len(s)): \n",
    "                score += (ord(s[j]) - \n",
    "                          ord('a') + 1) \n",
    "            index = i + 1\n",
    "            break\n",
    "    score = score * index \n",
    "    return score \n",
    "\n",
    "N=int(input())\n",
    "l=[]\n",
    "for i in range(0,N):\n",
    "    a=input()\n",
    "    l.append(a)\n",
    "l.sort()\n",
    "ans=[]\n",
    "Q=int(input())\n",
    "for i in range(0,Q):\n",
    "    k=input()\n",
    "    n = len(k)\n",
    "    score= strScore(l,k,n)\n",
    "    ans.append(score)\n",
    "\n",
    "for i in ans:\n",
    "    print(i)\n",
    "\n"
   ]
  },
  {
   "cell_type": "code",
   "execution_count": 8,
   "metadata": {},
   "outputs": [
    {
     "name": "stdout",
     "output_type": "stream",
     "text": [
      "6\n",
      "4\n"
     ]
    }
   ],
   "source": [
    "def gcd(a, b): \n",
    "      \n",
    "    # Everything divides 0  \n",
    "    if (a == 0 or b == 0): \n",
    "            False\n",
    "      \n",
    "    # base case \n",
    "    if (a == b): \n",
    "        return a \n",
    "  \n",
    "    # a is greater \n",
    "    if (a > b): \n",
    "        return gcd(a-b, b) \n",
    "          \n",
    "    return gcd(a, b-a) \n",
    "      \n",
    "# function to check  \n",
    "# for gcd \n",
    "def coprime(a, b) : \n",
    "    return (gcd(a, b) == 1) \n",
    "  \n",
    "def numOfPairs(arr, n) : \n",
    "    count = 0\n",
    "      \n",
    "    for i in range(0, n-1) : \n",
    "        for j in range(i+1, n) : \n",
    "      \n",
    "            if (coprime(arr[i], arr[j])) : \n",
    "                count = count + 1\n",
    "      \n",
    "    return count\n",
    "\n",
    "n=int(input())\n",
    "l=[]\n",
    "i = 1\n",
    "while i <= n : \n",
    "    if (n % i==0) : \n",
    "        l.append(i) \n",
    "    i = i + 1\n",
    "n = len(l)  \n",
    "  \n",
    "print(numOfPairs(l, n))\n",
    "    "
   ]
  },
  {
   "cell_type": "code",
   "execution_count": 8,
   "metadata": {},
   "outputs": [
    {
     "name": "stdout",
     "output_type": "stream",
     "text": [
      "Enter two numbers : 60 48\n",
      "GCD of the given numbers is :  12\n"
     ]
    }
   ],
   "source": [
    "def gcd(x, y): \n",
    "  \n",
    "   while(y): \n",
    "       x, y = y, x % y \n",
    "  \n",
    "   return x \n",
    "\n",
    "a,b=input(\"Enter two numbers : \").split()\n",
    "a,b=[int(a),int(b)]\n",
    "print(\"GCD of the given numbers is : \" ,gcd(a,b))\n"
   ]
  },
  {
   "cell_type": "code",
   "execution_count": 9,
   "metadata": {},
   "outputs": [
    {
     "name": "stdout",
     "output_type": "stream",
     "text": [
      "Enter the number and its exponential power seperated by space : 4 2\n",
      "Output :  16\n"
     ]
    }
   ],
   "source": [
    "def pow(a,b): \n",
    "      \n",
    "    if(b): \n",
    "        return multiply(a, pow(a, b-1)); \n",
    "    else: \n",
    "        return 1; \n",
    "    \n",
    "def multiply(x, y): \n",
    "      \n",
    "    if (y): \n",
    "        return (x + multiply(x, y-1)); \n",
    "    else: \n",
    "        return 0; \n",
    "    \n",
    "a,b=input(\"Enter the number and its exponential power seperated by space : \").split()\n",
    "a,b=[int(a),int(b)]\n",
    "print(\"Output : \", pow(a,b))"
   ]
  },
  {
   "cell_type": "code",
   "execution_count": 16,
   "metadata": {},
   "outputs": [
    {
     "name": "stdout",
     "output_type": "stream",
     "text": [
      "Enter all the elements of the list space seperated : 34 87 4 3 43 11 67 85 454\n",
      "Max number of the list is :  454\n"
     ]
    }
   ],
   "source": [
    "l=[]\n",
    "l = list(map(int, input(\"Enter all the elements of the list space seperated : \").split()))\n",
    "l.sort()\n",
    "print(\"Max number of the list is : \",l[-1])"
   ]
  },
  {
   "cell_type": "code",
   "execution_count": 19,
   "metadata": {},
   "outputs": [
    {
     "name": "stdout",
     "output_type": "stream",
     "text": [
      "Enter all the elements seperated by space : 45 32 67 99 90 5 22 34 65\n",
      "Enter the element to be search : 5\n",
      "Element present at position :  6\n"
     ]
    }
   ],
   "source": [
    "def L_search(arr, x): \n",
    "  \n",
    "    for i in range(len(arr)): \n",
    "  \n",
    "        if arr[i] == x: \n",
    "            return i \n",
    "  \n",
    "    return -1\n",
    "\n",
    "l=[]\n",
    "l = list(map(int, input(\"Enter all the elements seperated by space : \").split()))\n",
    "x=int(input(\"Enter the element to be search : \"))\n",
    "i=L_search(l,x)\n",
    "if i==-1:\n",
    "    print(\"Element is not present in the list.\")\n",
    "else:\n",
    "    print(\"Element present at position : \",i+1)"
   ]
  },
  {
   "cell_type": "code",
   "execution_count": 23,
   "metadata": {},
   "outputs": [
    {
     "name": "stdout",
     "output_type": "stream",
     "text": [
      "Enter all the elements seperated by space : 45 765 2 232 24\n",
      "Enter the element to be search : 2\n",
      "Element present at position :  3\n"
     ]
    }
   ],
   "source": [
    "def binarySearch (arr, l, r, x): \n",
    "    if r >= l: \n",
    "        mid = int(l + (r - l)/2)\n",
    "        if arr[mid] == x: \n",
    "            return mid \n",
    "        elif arr[mid] > x: \n",
    "            return binarySearch(arr, l, mid-1, x) \n",
    "        else: \n",
    "            return binarySearch(arr, mid+1, r, x) \n",
    "    else: \n",
    "        return -1\n",
    "\n",
    "li=[]\n",
    "li = list(map(int, input(\"Enter all the elements seperated by space : \").split()))\n",
    "x=int(input(\"Enter the element to be search : \"))\n",
    "i=binarySearch(li,0,len(li)-1,x)\n",
    "if i!=-1:\n",
    "    print(\"Element present at position : \",i+1)\n",
    "else:\n",
    "    print(\"Element is not present in the list.\")"
   ]
  },
  {
   "cell_type": "code",
   "execution_count": 9,
   "metadata": {},
   "outputs": [
    {
     "name": "stdout",
     "output_type": "stream",
     "text": [
      "Enter all the elements seperated by space : 4 65 32 1 21\n",
      "Elements before sorting are :  [4, 65, 32, 1, 21]\n",
      "Elements after sorting are :  [1, 4, 21, 32, 65]\n"
     ]
    }
   ],
   "source": [
    "def selectSort(A):\n",
    "    for i in range(len(A)): \n",
    "        min_idx = i \n",
    "        for j in range(i+1, len(A)): \n",
    "            if A[min_idx] > A[j]: \n",
    "                min_idx = j \n",
    "        A[i], A[min_idx] = A[min_idx], A[i]\n",
    "    return A\n",
    "\n",
    "li=[]\n",
    "li = list(map(int, input(\"Enter all the elements seperated by space : \").split()))\n",
    "print(\"Elements before sorting are : \",li)\n",
    "li=selectSort(li)\n",
    "print(\"Elements after sorting are : \",li)"
   ]
  },
  {
   "cell_type": "code",
   "execution_count": 10,
   "metadata": {},
   "outputs": [
    {
     "name": "stdout",
     "output_type": "stream",
     "text": [
      "Enter all the elements seperated by space : 47 34 2 64 1 32 88\n",
      "Elements before sorting are :  [47, 34, 2, 64, 1, 32, 88]\n",
      "Elements after sorting are :  [1, 2, 32, 34, 47, 64, 88]\n"
     ]
    }
   ],
   "source": [
    "def insertionSort(arr): \n",
    "    for i in range(1, len(arr)): \n",
    "        key = arr[i]  \n",
    "        j = i-1\n",
    "        while j >= 0 and key < arr[j] : \n",
    "                arr[j + 1] = arr[j] \n",
    "                j -= 1\n",
    "        arr[j + 1] = key \n",
    "    return arr\n",
    "        \n",
    "li=[]\n",
    "li = list(map(int, input(\"Enter all the elements seperated by space : \").split()))\n",
    "print(\"Elements before sorting are : \",li)\n",
    "li=insertionSort(li)\n",
    "print(\"Elements after sorting are : \",li)"
   ]
  },
  {
   "cell_type": "code",
   "execution_count": 11,
   "metadata": {},
   "outputs": [
    {
     "name": "stdout",
     "output_type": "stream",
     "text": [
      "Enter all the elements seperated by space : 4 8 5 34 2 34 64\n",
      "Elements before sorting are :  [4, 8, 5, 34, 2, 34, 64]\n",
      "Elements after sorting are :  [2, 4, 5, 8, 34, 34, 64]\n"
     ]
    }
   ],
   "source": [
    "def mergeSort(arr): \n",
    "    if len(arr) >1: \n",
    "        mid = len(arr)//2  \n",
    "        L = arr[:mid]   \n",
    "        R = arr[mid:] \n",
    "  \n",
    "        mergeSort(L)  \n",
    "        mergeSort(R) \n",
    "  \n",
    "        i = j = k = 0\n",
    "        while i < len(L) and j < len(R): \n",
    "            if L[i] < R[j]: \n",
    "                arr[k] = L[i] \n",
    "                i+=1\n",
    "            else: \n",
    "                arr[k] = R[j] \n",
    "                j+=1\n",
    "            k+=1\n",
    "        while i < len(L): \n",
    "            arr[k] = L[i] \n",
    "            i+=1\n",
    "            k+=1\n",
    "          \n",
    "        while j < len(R): \n",
    "            arr[k] = R[j] \n",
    "            j+=1\n",
    "            k+=1\n",
    "    return arr\n",
    "\n",
    "li=[]\n",
    "li = list(map(int, input(\"Enter all the elements seperated by space : \").split()))\n",
    "print(\"Elements before sorting are : \",li)\n",
    "li=mergeSort(li)\n",
    "print(\"Elements after sorting are : \",li)"
   ]
  },
  {
   "cell_type": "code",
   "execution_count": 12,
   "metadata": {},
   "outputs": [
    {
     "name": "stdout",
     "output_type": "stream",
     "text": [
      "Enter the number : 20\n",
      "2  \n",
      "3  \n",
      "5  \n",
      "7  \n",
      "11  \n",
      "13  \n",
      "17  \n",
      "19  \n"
     ]
    }
   ],
   "source": [
    "def isPrime(n):\n",
    "    if n <= 1 : \n",
    "        return False\n",
    "\n",
    "    for i in range(2, n): \n",
    "        if n % i == 0: \n",
    "            return False\n",
    "  \n",
    "    return True\n",
    "\n",
    "N=int(input(\"Enter the number : \"))\n",
    "for i in range(2,N+1):\n",
    "    if isPrime(i):\n",
    "        print(i,\" \")"
   ]
  },
  {
   "cell_type": "code",
   "execution_count": 39,
   "metadata": {},
   "outputs": [
    {
     "name": "stdout",
     "output_type": "stream",
     "text": [
      "1\n",
      "2 4\n",
      "[2, 3, 4, 5]\n",
      "1320\n"
     ]
    }
   ],
   "source": [
    "T=int(input())\n",
    "while T:\n",
    "    L,R=input().split()\n",
    "    L,R=[int(L),int(R)]\n",
    "    a=[1,2,3,4]\n",
    "    for i in range(len(a)):\n",
    "        a[i]+=(L-1)\n",
    "    print(a)\n",
    "    k=L\n",
    "    Sum=0\n",
    "    while k<=R:\n",
    "        Sum=Sum+(a[0]*a[1]*a[2]*a[3])\n",
    "        a=[x+1 for x in a]\n",
    "        k+=1\n",
    "    print(Sum)\n",
    "    T-=1"
   ]
  },
  {
   "cell_type": "code",
   "execution_count": 50,
   "metadata": {},
   "outputs": [
    {
     "name": "stdout",
     "output_type": "stream",
     "text": [
      "1\n",
      "6 4\n",
      "2263\n"
     ]
    }
   ],
   "source": [
    "T=int(input())\n",
    "while T:\n",
    "    N,K=input().split()\n",
    "    N,K=[int(N),int(K)]\n",
    "    sum=0\n",
    "    for i in range(1,N+1):\n",
    "        sum=sum+ ( i**K + ((i%2)-1)*i )\n",
    "    print(sum%1000000007)\n",
    "    T-=1"
   ]
  },
  {
   "cell_type": "code",
   "execution_count": 5,
   "metadata": {},
   "outputs": [
    {
     "name": "stdout",
     "output_type": "stream",
     "text": [
      "1\n",
      "5 4\n",
      "2 5 1 1 2\n",
      "3\n"
     ]
    }
   ],
   "source": [
    "T=int(input())\n",
    "while T:\n",
    "    N,P=input().split()\n",
    "    N,P=[int(N),int(P)]\n",
    "    li = list(map(int, input().split()))\n",
    "    li.sort()\n",
    "    count=0\n",
    "    while P>=li[0]:\n",
    "        P=P-li[0]\n",
    "        del li[0]\n",
    "        count+=1\n",
    "    print(count)\n",
    "    T-=1"
   ]
  },
  {
   "cell_type": "code",
   "execution_count": 7,
   "metadata": {},
   "outputs": [
    {
     "name": "stdout",
     "output_type": "stream",
     "text": [
      "1\n",
      "7\n",
      "375 750 723 662 647 656 619\n",
      "2\n"
     ]
    }
   ],
   "source": [
    "T=int(input())\n",
    "while T:\n",
    "    N=int(input())\n",
    "    l = list(map(int, input().split()))\n",
    "    count=1\n",
    "    if l[1]<l[0]:\n",
    "        count+=1\n",
    "    if l[2]<l[1] and l[2]<l[0]:\n",
    "        count+=1\n",
    "    if l[3]<l[2] and l[3]<l[1] and l[3]<l[0]:\n",
    "        count+=1\n",
    "    if l[4]<l[3] and l[4]<l[2] and l[4]<l[1] and l[4]<l[0]:\n",
    "        count+=1\n",
    "    for i in range(5,len(l)):\n",
    "        li=l[i-5:i]\n",
    "        if l[i]<li[4] and l[i]<li[3] and l[i]<li[2] and l[i]<li[1] and l[i]<li[0]:\n",
    "            count+=1\n",
    "    T-=1\n",
    "    print(count)        "
   ]
  },
  {
   "cell_type": "code",
   "execution_count": null,
   "metadata": {},
   "outputs": [],
   "source": [
    "T=int(input())\n",
    "while T:\n",
    "    N=int(input())\n",
    "    l=list(map(int, input().split()))\n",
    "    li=[]\n",
    "    for i in range(len(l)):\n",
    "        count=0\n",
    "        for j in range(l.index(l[i])):\n",
    "            if(l[j]%l[i]==0):\n",
    "                count+=1\n",
    "        li.append(count) \n",
    "    print(max(li))\n",
    "    T-=1"
   ]
  },
  {
   "cell_type": "code",
   "execution_count": 21,
   "metadata": {},
   "outputs": [
    {
     "name": "stdout",
     "output_type": "stream",
     "text": [
      "1\n",
      "2 2 3\n",
      "1 1\n",
      "1 2\n",
      "2 1\n",
      "2\n"
     ]
    }
   ],
   "source": [
    "T=int(input())\n",
    "while T:\n",
    "    N,M,Q=map(int, input().split())\n",
    "    arr = [[0 for i in range(M)] for j in range(N)]\n",
    "    for j in range(Q):\n",
    "        p,r=map(int, input().split())\n",
    "        if N<M:\n",
    "            for i in range(M):\n",
    "                arr[p-1][i]+=1\n",
    "                if i<N:\n",
    "                    arr[i][r-1]+=1\n",
    "        else:\n",
    "            for i in range(N):\n",
    "                arr[i][r-1]+=1\n",
    "                if i<M:\n",
    "                    arr[p-1][i]+=1\n",
    "    odd=0\n",
    "    for i in range(len(arr)) :  \n",
    "        for j in range(len(arr[i])) :  \n",
    "            if arr[i][j]%2!=0:\n",
    "                odd+=1\n",
    "    print(odd)\n",
    "    T-=1"
   ]
  },
  {
   "cell_type": "code",
   "execution_count": 10,
   "metadata": {},
   "outputs": [
    {
     "name": "stdout",
     "output_type": "stream",
     "text": [
      "1\n",
      "5 3\n",
      "2 6 8 4 2\n",
      "0 2 0 4 2\n"
     ]
    }
   ],
   "source": [
    "T=int(input())\n",
    "while T:\n",
    "    N,K=map(int, input().split())\n",
    "    li=list(map(int, input().split()))\n",
    "    for i in range(K):\n",
    "        li[i%N]= li[i%N] ^ li[N - (i%N) -1]\n",
    "    print(*li)\n",
    "    T-=1"
   ]
  },
  {
   "cell_type": "code",
   "execution_count": 17,
   "metadata": {},
   "outputs": [
    {
     "name": "stdout",
     "output_type": "stream",
     "text": [
      "1\n",
      "2\n",
      "7 12\n"
     ]
    },
    {
     "ename": "TypeError",
     "evalue": "'NoneType' object is not subscriptable",
     "output_type": "error",
     "traceback": [
      "\u001b[1;31m---------------------------------------------------------------------------\u001b[0m",
      "\u001b[1;31mTypeError\u001b[0m                                 Traceback (most recent call last)",
      "\u001b[1;32m<ipython-input-17-c82dc7f7014b>\u001b[0m in \u001b[0;36m<module>\u001b[1;34m\u001b[0m\n\u001b[0;32m     21\u001b[0m     \u001b[0mN\u001b[0m\u001b[1;33m=\u001b[0m\u001b[0mint\u001b[0m\u001b[1;33m(\u001b[0m\u001b[0minput\u001b[0m\u001b[1;33m(\u001b[0m\u001b[1;33m)\u001b[0m\u001b[1;33m)\u001b[0m\u001b[1;33m\u001b[0m\u001b[1;33m\u001b[0m\u001b[0m\n\u001b[0;32m     22\u001b[0m     \u001b[0mA\u001b[0m\u001b[1;33m=\u001b[0m\u001b[0mlist\u001b[0m\u001b[1;33m(\u001b[0m\u001b[0mmap\u001b[0m\u001b[1;33m(\u001b[0m\u001b[0mint\u001b[0m\u001b[1;33m,\u001b[0m\u001b[0minput\u001b[0m\u001b[1;33m(\u001b[0m\u001b[1;33m)\u001b[0m\u001b[1;33m.\u001b[0m\u001b[0msplit\u001b[0m\u001b[1;33m(\u001b[0m\u001b[1;33m)\u001b[0m\u001b[1;33m)\u001b[0m\u001b[1;33m)\u001b[0m\u001b[1;33m\u001b[0m\u001b[1;33m\u001b[0m\u001b[0m\n\u001b[1;32m---> 23\u001b[1;33m     \u001b[0mprint\u001b[0m\u001b[1;33m(\u001b[0m\u001b[0mmaxModValue\u001b[0m\u001b[1;33m(\u001b[0m\u001b[0mA\u001b[0m\u001b[1;33m,\u001b[0m\u001b[0mN\u001b[0m\u001b[1;33m)\u001b[0m\u001b[1;33m)\u001b[0m\u001b[1;33m\u001b[0m\u001b[1;33m\u001b[0m\u001b[0m\n\u001b[0m\u001b[0;32m     24\u001b[0m     \u001b[0mT\u001b[0m\u001b[1;33m-=\u001b[0m\u001b[1;36m1\u001b[0m\u001b[1;33m\u001b[0m\u001b[1;33m\u001b[0m\u001b[0m\n",
      "\u001b[1;32m<ipython-input-17-c82dc7f7014b>\u001b[0m in \u001b[0;36mmaxModValue\u001b[1;34m(arr, n)\u001b[0m\n\u001b[0;32m      3\u001b[0m         \u001b[0marr\u001b[0m \u001b[1;33m=\u001b[0m \u001b[0marr\u001b[0m\u001b[1;33m.\u001b[0m\u001b[0msort\u001b[0m\u001b[1;33m(\u001b[0m\u001b[0mreverse\u001b[0m\u001b[1;33m=\u001b[0m\u001b[1;32mTrue\u001b[0m\u001b[1;33m)\u001b[0m\u001b[1;33m\u001b[0m\u001b[1;33m\u001b[0m\u001b[0m\n\u001b[0;32m      4\u001b[0m         \u001b[1;32mfor\u001b[0m \u001b[0mj\u001b[0m \u001b[1;32min\u001b[0m \u001b[0mrange\u001b[0m\u001b[1;33m(\u001b[0m\u001b[0mn\u001b[0m \u001b[1;33m-\u001b[0m \u001b[1;36m2\u001b[0m\u001b[1;33m,\u001b[0m \u001b[1;33m-\u001b[0m\u001b[1;36m1\u001b[0m\u001b[1;33m,\u001b[0m \u001b[1;33m-\u001b[0m\u001b[1;36m1\u001b[0m\u001b[1;33m)\u001b[0m\u001b[1;33m:\u001b[0m\u001b[1;33m\u001b[0m\u001b[1;33m\u001b[0m\u001b[0m\n\u001b[1;32m----> 5\u001b[1;33m             \u001b[1;32mif\u001b[0m \u001b[1;33m(\u001b[0m\u001b[0mans\u001b[0m \u001b[1;33m>=\u001b[0m \u001b[0marr\u001b[0m\u001b[1;33m[\u001b[0m\u001b[0mj\u001b[0m\u001b[1;33m]\u001b[0m\u001b[1;33m)\u001b[0m\u001b[1;33m:\u001b[0m\u001b[1;33m\u001b[0m\u001b[1;33m\u001b[0m\u001b[0m\n\u001b[0m\u001b[0;32m      6\u001b[0m                 \u001b[1;32mbreak\u001b[0m\u001b[1;33m\u001b[0m\u001b[1;33m\u001b[0m\u001b[0m\n\u001b[0;32m      7\u001b[0m             \u001b[1;32mif\u001b[0m \u001b[1;33m(\u001b[0m\u001b[0marr\u001b[0m\u001b[1;33m[\u001b[0m\u001b[0mj\u001b[0m\u001b[1;33m]\u001b[0m \u001b[1;33m==\u001b[0m \u001b[0marr\u001b[0m\u001b[1;33m[\u001b[0m\u001b[0mj\u001b[0m \u001b[1;33m+\u001b[0m \u001b[1;36m1\u001b[0m\u001b[1;33m]\u001b[0m\u001b[1;33m)\u001b[0m \u001b[1;33m:\u001b[0m\u001b[1;33m\u001b[0m\u001b[1;33m\u001b[0m\u001b[0m\n",
      "\u001b[1;31mTypeError\u001b[0m: 'NoneType' object is not subscriptable"
     ]
    }
   ],
   "source": [
    "def maxModValue(arr, n):\n",
    "        ans = 0\n",
    "        arr = sorted(arr)  \n",
    "        for j in range(n - 2, -1, -1):\n",
    "            if (ans >= arr[j]):\n",
    "                break\n",
    "            if (arr[j] == arr[j + 1]) :\n",
    "                continue\n",
    "            i = 2 * arr[j] \n",
    "            while(i <= arr[n - 1] + arr[j]):\n",
    "                ind = 0\n",
    "                for k in arr: \n",
    "                    if k >= i:\n",
    "                        ind = arr.index(k)\n",
    "                ans = max(ans, arr[ind - 1] % arr[j]) \n",
    "                i += arr[j] \n",
    "        return ans\n",
    "\n",
    "T=int(input())\n",
    "while T:\n",
    "    N=int(input())\n",
    "    A=list(map(int,input().split()))\n",
    "    print(maxModValue(A,N))\n",
    "    T-=1"
   ]
  },
  {
   "cell_type": "code",
   "execution_count": 20,
   "metadata": {},
   "outputs": [
    {
     "name": "stdout",
     "output_type": "stream",
     "text": [
      "1\n",
      "2\n",
      "7 12\n",
      "7\n"
     ]
    }
   ],
   "source": [
    "import itertools as it\n",
    "T=int(input())\n",
    "while T:\n",
    "    N=int(input())\n",
    "    A=list(map(int,input().split()))\n",
    "    comb=it.permutations(A,N)\n",
    "    ans=[]\n",
    "    for i in comb:\n",
    "        mod=i[0]%i[1]\n",
    "        for j in range(1,len(i)):\n",
    "            mod=mod%i[j]\n",
    "        ans.append(mod)\n",
    "    print(max(ans))\n",
    "    T-=1"
   ]
  },
  {
   "cell_type": "code",
   "execution_count": 1,
   "metadata": {},
   "outputs": [
    {
     "name": "stdout",
     "output_type": "stream",
     "text": [
      "1\n",
      "5\n",
      "1 6 3 8 90\n",
      "[1, 3, 6, 8, 90]\n"
     ]
    }
   ],
   "source": [
    "T=int(input())\n",
    "while T:\n",
    "    N=int(input())\n",
    "    A=list(map(int,input().split()))\n",
    "    B=list(A)\n",
    "    i=A.index(B[0])\n",
    "    j=A.index(B[len(B)-1])\n",
    "    if i>j:\n",
    "        print(A[j],\" \",A[i])\n",
    "    else:\n",
    "        print(A[i],\" \",A[j])\n",
    "    T-=1"
   ]
  },
  {
   "cell_type": "code",
   "execution_count": null,
   "metadata": {},
   "outputs": [],
   "source": [
    "T=int(input())\n",
    "while T:\n",
    "    N,K=map(int, input().split())\n",
    "    li=list(map(int, input().split()))\n",
    "    if(sum(li)>K):\n",
    "        print(\"NO\")\n",
    "    else:\n",
    "        print(\"YES\")\n",
    "    T-=1"
   ]
  },
  {
   "cell_type": "code",
   "execution_count": null,
   "metadata": {},
   "outputs": [],
   "source": [
    "T=int(input())\n",
    "while T:\n",
    "    N,K=map(int, input().split())\n",
    "    \n",
    "    T-=1"
   ]
  },
  {
   "cell_type": "code",
   "execution_count": 1,
   "metadata": {},
   "outputs": [
    {
     "name": "stdout",
     "output_type": "stream",
     "text": [
      "2\n",
      "sdjkfjksdfjskd\n",
      "sdjkfjksdfjskd\n",
      "('a', 'e', 'i', 'o', 'u')\n",
      "fjksdfjsk\n",
      "dfjs\n"
     ]
    }
   ],
   "source": [
    "N=int(input())\n",
    "S=input()\n",
    "print(S)\n",
    "l=('a','e','i','o','u')\n",
    "print(l)\n",
    "S=S[4:len(S)-1]\n",
    "print(S)\n",
    "while(len(S)!=0):\n",
    "    if(S[0]!=[i for i in l] and S[3]!=[i for i in l]):\n",
    "        S=S[4:len(S)-1]\n",
    "    if(len(S)<)\n",
    "print(S)"
   ]
  },
  {
   "cell_type": "code",
   "execution_count": 12,
   "metadata": {},
   "outputs": [
    {
     "name": "stdout",
     "output_type": "stream",
     "text": [
      "8 5\n",
      "1 2\n",
      "2 4\n",
      "3 5\n",
      "5 6\n",
      "7 8\n",
      "2\n"
     ]
    }
   ],
   "source": [
    "from itertools import combinations as comb\n",
    "class Graph:\n",
    "    def __init__(self,V):\n",
    "        self.V = V \n",
    "        self.adj = [[] for i in range(V)]\n",
    "    def DFSUtil(self, temp, v, visited):\n",
    "        visited[v] = True\n",
    "        temp.append(v) \n",
    "        for i in self.adj[v]: \n",
    "            if visited[i] == False: \n",
    "                temp = self.DFSUtil(temp, i, visited) \n",
    "        return temp \n",
    "    def addEdge(self, v, w): \n",
    "        self.adj[v].append(w) \n",
    "        self.adj[w].append(v)\n",
    "    def connectedComponents(self): \n",
    "        visited = [] \n",
    "        cc = [] \n",
    "        for i in range(self.V): \n",
    "            visited.append(False) \n",
    "        for v in range(self.V): \n",
    "            if visited[v] == False: \n",
    "                temp = [] \n",
    "                cc.append(self.DFSUtil(temp, v, visited)) \n",
    "        return cc\n",
    "\n",
    "def nCr(n, r): \n",
    "    return (fact(n) / (fact(r)  \n",
    "                * fact(n - r))) \n",
    "  \n",
    "def fact(n): \n",
    "    res = 1  \n",
    "    for i in range(2, n+1): \n",
    "        res = res * i      \n",
    "    return res\n",
    "    \n",
    "if __name__==\"__main__\": \n",
    "    N,M=map(int, input().split())\n",
    "    g = Graph(N+1);\n",
    "    ans=M\n",
    "    while(M>0):\n",
    "        a,b=map(int, input().split())\n",
    "        g.addEdge(a,b)\n",
    "        M-=1\n",
    "    cc = g.connectedComponents() \n",
    "    cc=cc[1:len(cc)]\n",
    "    s=0\n",
    "    for i in cc:\n",
    "        s=int(s+nCr(len(i),2))\n",
    "    print(s-ans)"
   ]
  },
  {
   "cell_type": "code",
   "execution_count": 19,
   "metadata": {},
   "outputs": [
    {
     "name": "stdout",
     "output_type": "stream",
     "text": [
      "1\n",
      "5\n",
      "1 23 4 5 6\n",
      "1\n",
      "2\n",
      "3\n",
      "4\n",
      "1, 23, 4...6\n"
     ]
    }
   ],
   "source": [
    "T=int(input())\n",
    "a=list()\n",
    "while(T>0):\n",
    "    N=int(input())\n",
    "    x = list(map(int, input().split()))\n",
    "    k=0\n",
    "    for i in range(k,N):\n",
    "        F=0\n",
    "        for j in range(k+1,N):\n",
    "            k=j\n",
    "            if x[j]==x[j-1]+1:\n",
    "                F=1\n",
    "            else:\n",
    "                break\n",
    "        if F==0:\n",
    "            a.append(x[i])\n",
    "        else:\n",
    "            a.append(str(x[i])+\"...\"+str(x[k]))\n",
    "        if k==N-1:\n",
    "            break\n",
    "    print(*a, sep = \", \")\n",
    "    T=T-1"
   ]
  },
  {
   "cell_type": "code",
   "execution_count": 12,
   "metadata": {},
   "outputs": [
    {
     "name": "stdout",
     "output_type": "stream",
     "text": [
      "2\n",
      "5\n",
      "2 45\n",
      "9 100\n",
      "8 0\n",
      "2 15\n",
      "8 90\n",
      "135\n",
      "1\n",
      "11 1\n",
      "0\n"
     ]
    }
   ],
   "source": [
    "T=int(input())\n",
    "while T>0:\n",
    "    N=int(input())\n",
    "    A = dict()\n",
    "    for i in range(1,12):\n",
    "        A[i]=0\n",
    "    for i in range(0,N):\n",
    "        a,b=map(int, input().split())\n",
    "        if A[a]<b and a<9:\n",
    "            A[a]=b\n",
    "    s=0\n",
    "    for i in range(1,9):\n",
    "        s=s+A[i]\n",
    "    print(s)\n",
    "    T=T-1"
   ]
  },
  {
   "cell_type": "code",
   "execution_count": 8,
   "metadata": {},
   "outputs": [
    {
     "name": "stdout",
     "output_type": "stream",
     "text": [
      "2\n",
      "3\n",
      "2 3 4\n",
      "0\n",
      "3\n",
      "0 2 3\n",
      "0\n"
     ]
    }
   ],
   "source": [
    "def russian_peasant(x, y):\n",
    "    z = 0\n",
    "    while y > 0:\n",
    "        if y % 2 == 1: z = z + x\n",
    "        x = x << 1\n",
    "        y = y >> 1\n",
    "    return z\n",
    "\n",
    "for _ in range(int(input())):\n",
    "    N=int(input())\n",
    "    a=list(map(int, input().split()))\n",
    "    ans=0\n",
    "    for i in range(0,len(a)):\n",
    "        for j in range(0,len(a)):\n",
    "            if i==j:\n",
    "                continue\n",
    "            if a[i]+a[j]==(russian_peasant(a[i],a[j])):\n",
    "                ans=ans+1\n",
    "    print(int(ans>>1))"
   ]
  },
  {
   "cell_type": "code",
   "execution_count": 1,
   "metadata": {},
   "outputs": [
    {
     "name": "stdout",
     "output_type": "stream",
     "text": [
      "3\n",
      "11100\n",
      "1010\n",
      "3\n",
      "100010\n",
      "0\n",
      "0\n",
      "0\n",
      "100010\n",
      "1\n"
     ]
    }
   ],
   "source": [
    "T=int(input())\n",
    "for i in range(0,T):\n",
    "    A=int(input(),2)\n",
    "    B=int(input(),2)\n",
    "    p=0\n",
    "    while B>0:\n",
    "        U=A\n",
    "        A=U^B\n",
    "        B=(U&B)<<1\n",
    "        p+=1\n",
    "    print(p)"
   ]
  },
  {
   "cell_type": "code",
   "execution_count": null,
   "metadata": {},
   "outputs": [],
   "source": [
    "import itertools as it\n",
    "from collections import Counter\n",
    "def countDistinct(arr): \n",
    "    return len(Counter(arr).keys())\n",
    "T=int(input())\n",
    "while T>0:\n",
    "    N=int(input())\n",
    "    A=list()\n",
    "    for i in it.permutations(list(input()),N):\n",
    "        A.append(''.join(i))\n",
    "    B=list()\n",
    "    for i in it.permutations(list(input()),N):\n",
    "        B.append(''.join(i))\n",
    "    ans=list()\n",
    "    for p in A:\n",
    "        for q in B:\n",
    "            ans.append(int(p,2)^int(q,2))\n",
    "    print(countDistinct(ans)%1000000007)\n",
    "    T=T-1"
   ]
  },
  {
   "cell_type": "code",
   "execution_count": 23,
   "metadata": {},
   "outputs": [
    {
     "name": "stdout",
     "output_type": "stream",
     "text": [
      "ABC\n",
      "4\n",
      "ABC\n",
      "Ab\n",
      "ABD\n",
      "ADB\n",
      "14\n"
     ]
    }
   ],
   "source": [
    "from itertools import permutations \n",
    "  \n",
    "A=input()\n",
    "K=list()\n",
    "for i in range(1,len(A)+1):\n",
    "    permList = permutations(A,i) \n",
    "    N=list()\n",
    "    for perm in list(permList): \n",
    "        N.append(''.join(perm))\n",
    "    K.extend(N)\n",
    "S=int(input())\n",
    "L=list()\n",
    "for i in range(0,S):\n",
    "    L.append(input())\n",
    "print(len(list(set(K)-set(L))))"
   ]
  },
  {
   "cell_type": "code",
   "execution_count": 31,
   "metadata": {},
   "outputs": [
    {
     "name": "stdout",
     "output_type": "stream",
     "text": [
      "3 2\n",
      "2\n"
     ]
    },
    {
     "ename": "IndexError",
     "evalue": "list index out of range",
     "output_type": "error",
     "traceback": [
      "\u001b[1;31m---------------------------------------------------------------------------\u001b[0m",
      "\u001b[1;31mIndexError\u001b[0m                                Traceback (most recent call last)",
      "\u001b[1;32m<ipython-input-31-19876a1ca1cf>\u001b[0m in \u001b[0;36m<module>\u001b[1;34m\u001b[0m\n\u001b[0;32m      4\u001b[0m \u001b[1;32mfor\u001b[0m \u001b[0mi\u001b[0m \u001b[1;32min\u001b[0m \u001b[0mrange\u001b[0m\u001b[1;33m(\u001b[0m\u001b[1;36m1\u001b[0m\u001b[1;33m,\u001b[0m\u001b[0mR\u001b[0m\u001b[1;33m+\u001b[0m\u001b[1;36m1\u001b[0m\u001b[1;33m)\u001b[0m\u001b[1;33m:\u001b[0m\u001b[1;33m\u001b[0m\u001b[1;33m\u001b[0m\u001b[0m\n\u001b[0;32m      5\u001b[0m     \u001b[1;32mfor\u001b[0m \u001b[0mj\u001b[0m \u001b[1;32min\u001b[0m \u001b[0mrange\u001b[0m\u001b[1;33m(\u001b[0m\u001b[1;36m1\u001b[0m\u001b[1;33m,\u001b[0m\u001b[0mC\u001b[0m\u001b[1;33m+\u001b[0m\u001b[1;36m1\u001b[0m\u001b[1;33m)\u001b[0m\u001b[1;33m:\u001b[0m\u001b[1;33m\u001b[0m\u001b[1;33m\u001b[0m\u001b[0m\n\u001b[1;32m----> 6\u001b[1;33m          \u001b[0mmatrix\u001b[0m\u001b[1;33m[\u001b[0m\u001b[0mi\u001b[0m\u001b[1;33m]\u001b[0m\u001b[1;33m[\u001b[0m\u001b[0mj\u001b[0m\u001b[1;33m]\u001b[0m\u001b[1;33m=\u001b[0m\u001b[0mint\u001b[0m\u001b[1;33m(\u001b[0m\u001b[0minput\u001b[0m\u001b[1;33m(\u001b[0m\u001b[1;33m)\u001b[0m\u001b[1;33m)\u001b[0m\u001b[1;33m\u001b[0m\u001b[1;33m\u001b[0m\u001b[0m\n\u001b[0m\u001b[0;32m      7\u001b[0m \u001b[1;33m\u001b[0m\u001b[0m\n\u001b[0;32m      8\u001b[0m \u001b[1;32mfor\u001b[0m \u001b[0mi\u001b[0m \u001b[1;32min\u001b[0m \u001b[0mrange\u001b[0m\u001b[1;33m(\u001b[0m\u001b[0mR\u001b[0m\u001b[1;33m)\u001b[0m\u001b[1;33m:\u001b[0m\u001b[1;33m\u001b[0m\u001b[1;33m\u001b[0m\u001b[0m\n",
      "\u001b[1;31mIndexError\u001b[0m: list index out of range"
     ]
    }
   ],
   "source": [
    "R,C=map(int,input().split())\n",
    "matrix = []     \n",
    "\n",
    "for i in range(1,R+1):          \n",
    "    for j in range(1,C+1):      \n",
    "         matrix[i][j]=int(input()) \n",
    "\n",
    "for i in range(R): \n",
    "    for j in range(C): \n",
    "        print(matrix[i][j], end = \" \") \n",
    "    print()\n",
    "    "
   ]
  },
  {
   "cell_type": "code",
   "execution_count": 13,
   "metadata": {},
   "outputs": [
    {
     "name": "stdout",
     "output_type": "stream",
     "text": [
      "3\n",
      "5\n",
      "1 1 1 1 1\n",
      "0\n",
      "4\n",
      "9 8 1 8\n",
      "2\n",
      "2\n",
      "1 9\n",
      "1\n"
     ]
    }
   ],
   "source": [
    "def CountFrequency(my_list):  \n",
    "    freq = {} \n",
    "    for item in my_list: \n",
    "        if (item in freq): \n",
    "            freq[item] += 1\n",
    "        else: \n",
    "            freq[item] = 1\n",
    "    return freq\n",
    "\n",
    "from itertools import groupby\n",
    "T=int(input())\n",
    "while T>0:\n",
    "    N=int(input())\n",
    "    a=list(map(int, input().split()))\n",
    "    b=CountFrequency(a)\n",
    "    print(N-max(b.values()))\n",
    "    T=T-1"
   ]
  },
  {
   "cell_type": "code",
   "execution_count": 3,
   "metadata": {},
   "outputs": [
    {
     "name": "stdout",
     "output_type": "stream",
     "text": [
      "1\n",
      "6 4\n",
      "1 2 3 3 2 2\n",
      "7 3 9 1 1 1\n",
      "5\n"
     ]
    }
   ],
   "source": [
    "T=int(input())\n",
    "while T>0:\n",
    "    N,M=map(int, input().split())\n",
    "    F=list(map(int, input().split()))\n",
    "    P=list(map(int, input().split()))\n",
    "    x=list(set(F))\n",
    "    ans=[]\n",
    "    l=N+1\n",
    "    for i in range(0,len(x)):\n",
    "        sm=0\n",
    "        for j in range(0,N):\n",
    "            if x[i]==F[j]:\n",
    "                sm=sm+P[j]\n",
    "        ans.append(sm)\n",
    "        if M==x[i]:\n",
    "            l=i\n",
    "    print(min(ans))\n",
    "    T=T-1"
   ]
  },
  {
   "cell_type": "code",
   "execution_count": 12,
   "metadata": {},
   "outputs": [
    {
     "name": "stdout",
     "output_type": "stream",
     "text": [
      "1\n",
      "6 1\n",
      "232 23 34 54 34 2\n",
      "2\n",
      "1  5\n"
     ]
    }
   ],
   "source": [
    "def countSetBits( n): \n",
    "    if (n == 0): \n",
    "        return 0\n",
    "    else:\n",
    "        return (n & 1) + countSetBits(n >> 1) \n",
    "\n",
    "T=int(input())\n",
    "while T>0:\n",
    "    N,Q=map(int, input().split())\n",
    "    A=list(map(int, input().split()))\n",
    "    while Q>0:\n",
    "        P=int(input())\n",
    "        Q-=1\n",
    "        even=0\n",
    "        for i in A:\n",
    "            if(countSetBits(P^i)%2==0):\n",
    "                even+=1\n",
    "        print(even,\"\",(len(A)-even))\n",
    "    T-=1"
   ]
  },
  {
   "cell_type": "code",
   "execution_count": 3,
   "metadata": {},
   "outputs": [
    {
     "name": "stdout",
     "output_type": "stream",
     "text": [
      "2\n",
      "3 4\n",
      "34 45\n",
      "11\n"
     ]
    }
   ],
   "source": [
    "N=int(input())\n",
    "X = list(map(int, input().split()))\n",
    "I = list(map(int, input().split()))\n",
    "A=[]\n",
    "for i in range(0,len(X)):\n",
    "    A.append(int(I[i]/X[i]))\n",
    "print(min(A))\n",
    "    "
   ]
  },
  {
   "cell_type": "code",
   "execution_count": 1,
   "metadata": {},
   "outputs": [
    {
     "name": "stdout",
     "output_type": "stream",
     "text": [
      "1\n",
      "10\n",
      "3 6 7 5 3 5 6 2 9 1 \n",
      "2 7 0 9 3 6 0 6 2 6 \n",
      "7\n"
     ]
    }
   ],
   "source": [
    "for _ in range(int(input())):\n",
    "    N=int(input())\n",
    "    G=list(map(int,input().split()))\n",
    "    O=list(map(int,input().split()))\n",
    "    G.sort()\n",
    "    O.sort()\n",
    "    count=0\n",
    "    j=0\n",
    "    for i in range(N):\n",
    "        if G[i]>O[j]:\n",
    "            count+=1\n",
    "            j+=1\n",
    "    print(count)"
   ]
  },
  {
   "cell_type": "code",
   "execution_count": 12,
   "metadata": {},
   "outputs": [
    {
     "name": "stdout",
     "output_type": "stream",
     "text": [
      "1\n",
      "10\n",
      "3 6 7 5 3 5 6 2 9 1 \n",
      "2 7 0 9 3 6 0 6 2 6 \n",
      "7\n"
     ]
    }
   ],
   "source": [
    "T=int(input())\n",
    "while T>0:\n",
    "    N = int(input())\n",
    "    G = list(map(int, input().split()))\n",
    "    X = list(map(int, input().split()))\n",
    "    G.sort()\n",
    "    X.sort()\n",
    "    for i in G:\n",
    "        if i>X[0]:\n",
    "            X.remove(X[0])\n",
    "    print(N-len(X))\n",
    "    T-=1"
   ]
  },
  {
   "cell_type": "code",
   "execution_count": 2,
   "metadata": {},
   "outputs": [
    {
     "name": "stdout",
     "output_type": "stream",
     "text": [
      "2\n",
      "3 2\n",
      "2 1 2\n",
      "1\n",
      "4 7\n",
      "2 5 6 3\n",
      "7\n"
     ]
    }
   ],
   "source": [
    "def find_lcm(num1, num2): \n",
    "    if(num1>num2): \n",
    "        num = num1 \n",
    "        den = num2 \n",
    "    else: \n",
    "        num = num2 \n",
    "        den = num1 \n",
    "    rem = num % den \n",
    "    while(rem != 0): \n",
    "        num = den \n",
    "        den = rem \n",
    "        rem = num % den \n",
    "    gcd = den \n",
    "    lcm = int(int(num1 * num2)/int(gcd)) \n",
    "    return lcm \n",
    "\n",
    "T=int(input())\n",
    "while T>0:\n",
    "    N,M = map(int, input().split())\n",
    "    l = list(map(int, input().split()))\n",
    "    lcm = find_lcm(l[0], l[1])\n",
    "    for i in range(2, len(l)): \n",
    "        lcm = find_lcm(lcm, l[i])\n",
    "    ans=[]\n",
    "    for i in range(1,M+1):\n",
    "        a = find_lcm(lcm,i)\n",
    "        ans.append(a)\n",
    "    a=max(ans)\n",
    "    print(ans.index(a)+1)\n",
    "    T-=1"
   ]
  },
  {
   "cell_type": "code",
   "execution_count": 11,
   "metadata": {},
   "outputs": [
    {
     "name": "stdout",
     "output_type": "stream",
     "text": [
      "3\n",
      "7\n",
      "7\n"
     ]
    }
   ],
   "source": [
    "def gcd(a,b):\n",
    "    if a==0:\n",
    "        return b\n",
    "    return gcd(b%a,a)\n",
    "\n",
    "a=int(input())\n",
    "b=int(input())\n",
    "lcm=int(a*b/gcd(a,b))\n",
    "p = lcm/b\n",
    "q = (lcm - (p*a))/a\n",
    "ans = int(p+q)\n",
    "print(ans)"
   ]
  },
  {
   "cell_type": "code",
   "execution_count": 9,
   "metadata": {},
   "outputs": [
    {
     "name": "stdout",
     "output_type": "stream",
     "text": [
      "3\n",
      "8\n",
      "('B', 'G', 'G')\n",
      "('G', 'G', 'G')\n",
      "('B', 'G', 'B')\n",
      "('G', 'B', 'G')\n",
      "('B', 'B', 'G')\n",
      "('G', 'G', 'B')\n",
      "('B', 'B', 'B')\n",
      "('G', 'B', 'B')\n",
      "7\n"
     ]
    }
   ],
   "source": [
    "from itertools import permutations as pm\n",
    "N=int(input())\n",
    "d = (\"BG\"*N)\n",
    "data = set(list(pm(d,N)))\n",
    "print(len(data))\n",
    "count=0\n",
    "for i in data:\n",
    "    print(i)\n",
    "    if 'BBB' in \"\".join(i):\n",
    "        continue\n",
    "    count+=1\n",
    "print(count)      "
   ]
  },
  {
   "cell_type": "code",
   "execution_count": 32,
   "metadata": {},
   "outputs": [
    {
     "name": "stdout",
     "output_type": "stream",
     "text": [
      "geeks geek gee ge\n",
      "ge\n"
     ]
    }
   ],
   "source": [
    "def split(word): \n",
    "    return [char for char in word]\n",
    "\n",
    "def LCP(arr,n):\n",
    "    arr = list(arr)\n",
    "    character = split(arr[0])\n",
    "    x = min(len(i) for i in arr)\n",
    "    ans=[]\n",
    "    for j in range(x):\n",
    "        p=''\n",
    "        T=0\n",
    "        for k in arr:\n",
    "            if character[j]==k[j]:\n",
    "                T=1\n",
    "                p=k[j]\n",
    "            else:\n",
    "                T=0\n",
    "                break\n",
    "        if T==1:\n",
    "            ans.append(p)\n",
    "    print(\"\".join(ans))\n",
    "\n",
    "arr = (x for x in input().split())\n",
    "LCP(arr,4)"
   ]
  },
  {
   "cell_type": "code",
   "execution_count": 37,
   "metadata": {},
   "outputs": [
    {
     "name": "stdout",
     "output_type": "stream",
     "text": [
      "hellosfdfdlhfsha\n",
      "h\n",
      "[0, 11, 14]\n"
     ]
    }
   ],
   "source": [
    "def findOccurrences(s, ch):\n",
    "    return [i for i, letter in enumerate(s) if letter == ch]\n",
    "\n",
    "S=input()\n",
    "X=input()\n",
    "print(findOccurrences(S, X))"
   ]
  },
  {
   "cell_type": "code",
   "execution_count": null,
   "metadata": {},
   "outputs": [],
   "source": [
    "from array import array\n",
    "def findOccurrences(s, ch):\n",
    "    return [i for i, letter in enumerate(s) if letter == ch]\n",
    "\n",
    "def shortestDistance(S, X): \n",
    "    l = findOccurrences(S , X)\n",
    "    ans=[]\n",
    "    for i in range(len(S)):\n",
    "        k=[]\n",
    "        for j in l:\n",
    "            k.append(abs(j-i)) \n",
    "        ans.append(min(k))\n",
    "    return array('i',ans)"
   ]
  },
  {
   "cell_type": "code",
   "execution_count": 18,
   "metadata": {},
   "outputs": [
    {
     "name": "stdout",
     "output_type": "stream",
     "text": [
      "12 20\n",
      "56\n"
     ]
    }
   ],
   "source": [
    "def printSubArrays(arr, start, end,s):  \n",
    "    arr = list(arr)\n",
    "    if end == len(arr): \n",
    "        print(s)\n",
    "    elif start > end: \n",
    "        return printSubArrays(arr, 0, end + 1,s) \n",
    "    else: \n",
    "        if len(arr[start:end + 1])==1:\n",
    "            s = s+int(arr[start])\n",
    "        else:\n",
    "            xor=0\n",
    "            for j in range(start,end+1):\n",
    "                xor = xor^int(arr[j])\n",
    "            s = s+xor\n",
    "        return printSubArrays(arr, start + 1, end,s)\n",
    "\n",
    "arr = (x for x in input().split())\n",
    "s=0\n",
    "printSubArrays(arr,0,0,s)"
   ]
  },
  {
   "cell_type": "code",
   "execution_count": 9,
   "metadata": {},
   "outputs": [
    {
     "name": "stdout",
     "output_type": "stream",
     "text": [
      "3\n"
     ]
    }
   ],
   "source": [
    "print(0^2)"
   ]
  },
  {
   "cell_type": "code",
   "execution_count": 21,
   "metadata": {},
   "outputs": [
    {
     "name": "stdout",
     "output_type": "stream",
     "text": [
      "12 20\n",
      "56\n"
     ]
    }
   ],
   "source": [
    "def sub_lists(list1): \n",
    "    sublist = [[]] \n",
    "    for i in range(len(list1) + 1): \n",
    "        for j in range(i + 1, len(list1) + 1): \n",
    "            sub = list1[i:j] \n",
    "            sublist.append(sub) \n",
    "    return sublist \n",
    "def sum_of_XOR(arr,n):\n",
    "    arr=list(arr)\n",
    "    sublist = sub_lists(arr)\n",
    "    su=0\n",
    "    for i in sublist:\n",
    "        if len(i)==1:\n",
    "            su=su+int(i[0])\n",
    "        else:\n",
    "            xor=0\n",
    "            for j in i:\n",
    "                xor = xor^int(j)\n",
    "            su = su+xor\n",
    "    return su\n",
    "\n",
    "arr = (x for x in input().split())\n",
    "print(sum_of_XOR(arr,2))"
   ]
  },
  {
   "cell_type": "code",
   "execution_count": 16,
   "metadata": {},
   "outputs": [
    {
     "name": "stdout",
     "output_type": "stream",
     "text": [
      "1\n",
      "6\n",
      "1 0 1 0 1 0\n",
      "<enumerate object at 0x000001DF9BB1F2D0>\n",
      "NO\n"
     ]
    }
   ],
   "source": [
    "T=int(input())\n",
    "for _ in range(T):\n",
    "    N = int(input())\n",
    "    A = list(map(int , input().split()))\n",
    "    indices = [i for i, x in enumerate(A) if x == 1]\n",
    "    ans = [indices[i + 1] - indices[i] for i in range(len(indices)-1)]\n",
    "    ans.sort()\n",
    "    F=1\n",
    "    for i in ans:\n",
    "        if i<6:\n",
    "            F=0\n",
    "            break\n",
    "    if F==1:\n",
    "        print(\"YES\")\n",
    "    else:\n",
    "        print(\"NO\")"
   ]
  },
  {
   "cell_type": "code",
   "execution_count": 15,
   "metadata": {},
   "outputs": [
    {
     "name": "stdout",
     "output_type": "stream",
     "text": [
      "1\n",
      "4\n",
      "3 4 5 1\n",
      "5\n",
      "8\n",
      "9\n",
      "9\n",
      "9\n"
     ]
    }
   ],
   "source": [
    "T=int(input())\n",
    "for _ in range(T):\n",
    "    N = int(input())\n",
    "    P = list(map(int , input().split()))\n",
    "    prof = 0\n",
    "    P.sort(reverse=True)\n",
    "    for i in range(N):\n",
    "        if P[i]==0:\n",
    "            break\n",
    "        elif P[i]-i>0:\n",
    "            prof = prof+P[i]-i  \n",
    "    print(prof%1000000007)"
   ]
  },
  {
   "cell_type": "code",
   "execution_count": 2,
   "metadata": {},
   "outputs": [
    {
     "name": "stdout",
     "output_type": "stream",
     "text": [
      "1\n",
      "5\n",
      "55 23 32 46 88\n",
      "101\n"
     ]
    }
   ],
   "source": [
    "def sumDigits(no): \n",
    "    return 0 if no == 0 else int(no%10) + sumDigits(int(no/10)) \n",
    "\n",
    "T=int(input())\n",
    "for _ in range(T):\n",
    "    N = int(input())\n",
    "    P = list(map(int , input().split()))\n",
    "    S = []\n",
    "    for i in P:\n",
    "        for j in P:\n",
    "            if i==j:\n",
    "                break\n",
    "            else:\n",
    "                E1= sumDigits(i)\n",
    "                E2= sumDigits(j)\n",
    "                if E1==E2:\n",
    "                    S.append(i+j)\n",
    "    print(max(S))           "
   ]
  },
  {
   "cell_type": "code",
   "execution_count": 4,
   "metadata": {},
   "outputs": [
    {
     "name": "stdout",
     "output_type": "stream",
     "text": [
      "3\n",
      "8 3\n",
      "1\n",
      "12 2\n",
      "1\n",
      "64 4\n",
      "1\n"
     ]
    }
   ],
   "source": [
    "import math\n",
    "def printDivisors(n) : \n",
    "    i = 1\n",
    "    l=[]\n",
    "    while i <= n : \n",
    "        if (n % i==0) : \n",
    "            l.append(i)\n",
    "        i = i + 1\n",
    "    return len(l)\n",
    "\n",
    "def primeFactors(n): \n",
    "    l=[]\n",
    "    while n % 2 == 0: \n",
    "        l.append(2)\n",
    "        n = n / 2\n",
    "    for i in range(3,int(math.sqrt(n))+1,2): \n",
    "        while n % i== 0: \n",
    "            l.append(i) \n",
    "            n = n / i \n",
    "    if n > 2: \n",
    "        l.append(int(n))\n",
    "    return l\n",
    "\n",
    "T=int(input())\n",
    "for _ in range(T):\n",
    "    N,M = map(int , input().split())\n",
    "    k = primeFactors(N)\n",
    "    if M>=1 and M<=len(k):\n",
    "        print(1)\n",
    "    else:\n",
    "        print(0)"
   ]
  },
  {
   "cell_type": "code",
   "execution_count": 9,
   "metadata": {},
   "outputs": [
    {
     "name": "stdout",
     "output_type": "stream",
     "text": [
      "3\n",
      "5\n",
      "1 2 3 4 5 \n",
      "[1, 24, 120, 24, 120, 3, 12, 60, 4, 20, 5]\n",
      "11\n",
      "[1, 2, 6, 24, 120, 2, 6, 24, 120, 3, 12, 60, 4, 20, 5]\n",
      "15\n",
      "5\n",
      "2 1 3 4 5\n",
      "[24, 120, 1, 3, 12, 60, 3, 12, 60, 4, 20, 5]\n",
      "12\n",
      "[2, 2, 6, 24, 120, 1, 3, 12, 60, 3, 12, 60, 4, 20, 5]\n",
      "15\n",
      "5\n",
      "4 1 3 2 5\n",
      "[4, 4, 12, 24, 120, 1, 3, 3, 5]\n",
      "9\n",
      "[4, 4, 12, 24, 120, 1, 3, 6, 30, 3, 6, 30, 2, 10, 5]\n",
      "15\n"
     ]
    }
   ],
   "source": [
    "import numpy\n",
    "import math\n",
    "def printDivisors(n) : \n",
    "    i = 1\n",
    "    l=[]\n",
    "    while i <= n : \n",
    "        if (n % i==0) : \n",
    "            l.append(i)\n",
    "        i = i + 1\n",
    "    return l\n",
    "\n",
    "def sub_lists(list1):  \n",
    "    S=[]\n",
    "    P=[]\n",
    "    for i in range(len(list1) + 1): \n",
    "        for j in range(i + 1, len(list1) + 1):\n",
    "            P.append(numpy.prod(list1[i:j]))\n",
    "            if numpy.prod(list1[i:j])%4!=2:\n",
    "                 S.append(numpy.prod(list1[i\n",
    "    return S,P\n",
    "\n",
    "def allSubArrays(L,L2=None):\n",
    "    if L2==None:\n",
    "        L2 = L[:-1]\n",
    "    if L==[]:\n",
    "        if L2==[]:\n",
    "            return []\n",
    "        return allSubArrays(L2,L2[:-1])\n",
    "    return [L]+allSubArrays(L[1:],L2)\n",
    "\n",
    "def printSubArrays(arr, start, end): \n",
    "    global count\n",
    "    if end == len(arr): \n",
    "        return 0\n",
    "    elif start > end: \n",
    "        return printSubArrays(arr, 0, end + 1)\n",
    "    else: \n",
    "        if numpy.prod(arr[start:end + 1])%4 != 2:\n",
    "            count+=1\n",
    "        return printSubArrays(arr, start + 1, end) \n",
    "\n",
    "T=int(input())   \n",
    "for _ in range(T):\n",
    "    N=int(input())\n",
    "    A = list(map(int , input().split())) \n",
    "    l,k=sub_lists(A)\n",
    "    print(l)\n",
    "    print(len(l))\n",
    "    print(k)\n",
    "    print(len(k))"
   ]
  },
  {
   "cell_type": "code",
   "execution_count": 23,
   "metadata": {},
   "outputs": [
    {
     "name": "stdout",
     "output_type": "stream",
     "text": [
      "50\n",
      "1 2 3 4 5 6 7 8 9 10 11 12 13 14 15 16 17 18 19 20 21 22 23 24 25 26 27 28 29 30 31 32 33 34 35 36 37 38 39 40 41 42 43 44 45 46 47 48 49 50 \n",
      "15\n",
      "2 3 5 7 11 13 17 19 23 29 31 37 41 43 47 "
     ]
    }
   ],
   "source": [
    "def SieveOfEratosthenes(n):\n",
    "    prime = [True for i in range(n+1)] \n",
    "    p = 2\n",
    "    while (p * p <= n): \n",
    "        if (prime[p] == True): \n",
    "            for i in range(p * p, n+1, p): \n",
    "                prime[i] = False\n",
    "        p += 1\n",
    "    for p in range(2, n): \n",
    "        if prime[p]: \n",
    "            print(p,end=\" \")\n",
    "            \n",
    "A=int(input())\n",
    "for i in range(1,A+1):\n",
    "    print(i, end=\" \")\n",
    "print()\n",
    "SieveOfEratosthenes(A)"
   ]
  },
  {
   "cell_type": "code",
   "execution_count": 3,
   "metadata": {},
   "outputs": [
    {
     "name": "stdout",
     "output_type": "stream",
     "text": [
      "2\n",
      "9\n",
      "4\n",
      "3 1 2 3\n",
      "2 4 5\n",
      "2 6 7\n",
      "2 8 9\n",
      "6\n",
      "3\n",
      "3 1 2 3\n",
      "2 4 5\n",
      "1 6\n"
     ]
    }
   ],
   "source": [
    "T = int(input())\n",
    "for _ in range(T):\n",
    "    N = int(input())\n",
    "    if N<=3:\n",
    "        print(\"1\")\n",
    "        print(N,end =\" \")\n",
    "        for i in range(1,N+1):\n",
    "            print(i,end = \" \")\n",
    "    else:\n",
    "        print(N//2)\n",
    "        print(\"3\",end = \" \")\n",
    "        print(\"1\",end = \" \")\n",
    "        print(\"2\",end = \" \")\n",
    "        print(\"3\")\n",
    "        for i in range(4,N,2):\n",
    "            print(\"2\",end = \" \")\n",
    "            print(i,end = ' ')\n",
    "            print(i+1)\n",
    "        if(N%2 == 0):\n",
    "            print(\"1\",end = \" \")\n",
    "            print(N)"
   ]
  },
  {
   "cell_type": "code",
   "execution_count": 18,
   "metadata": {},
   "outputs": [
    {
     "name": "stdout",
     "output_type": "stream",
     "text": [
      "1\n",
      "3\n",
      "10 20 14\n",
      "Case #1: 1\n"
     ]
    }
   ],
   "source": [
    "#Google\n",
    "T=int(input())\n",
    "for i in range(1,T+1):\n",
    "    N=int(input())\n",
    "    H=list(map(int,input().split()))\n",
    "    count=0\n",
    "    for j in range(1,N-1):\n",
    "        if H[j-1]<H[j]>H[j+1]:\n",
    "            count+=1\n",
    "    print('Case #'+str(i)+':',count)"
   ]
  },
  {
   "cell_type": "code",
   "execution_count": 3,
   "metadata": {},
   "outputs": [
    {
     "name": "stdout",
     "output_type": "stream",
     "text": [
      "3\n",
      "3 10\n",
      "3 7 2\n",
      "Case #1: 6\n",
      "4 100\n",
      "11 10 5 50\n",
      "Case #2: 99\n",
      "1 1\n",
      "1\n",
      "Case #3: 1\n"
     ]
    }
   ],
   "source": [
    "#Google\n",
    "T=int(input())\n",
    "for i in range(1,T+1):\n",
    "    N,D=map(int,input().split())\n",
    "    X=list(map(int,input().split()))\n",
    "    ans=0\n",
    "    while True:\n",
    "        no = (D//X[0])*X[0]\n",
    "        prime = [False for k in range(0,N)]\n",
    "        for k in range(no,D+1):\n",
    "            for x in range(0,N):\n",
    "                if k%X[x]==0:\n",
    "                    prime[x]=True\n",
    "        if False not in prime:\n",
    "                ans=no\n",
    "                break\n",
    "        D = D-X[0]\n",
    "    print('Case #'+str(i)+':',ans)"
   ]
  },
  {
   "cell_type": "code",
   "execution_count": 9,
   "metadata": {},
   "outputs": [
    {
     "name": "stdout",
     "output_type": "stream",
     "text": [
      "1\n",
      "2 3\n",
      "1 2\n",
      "0 1\n",
      "1 0\n",
      "1\n",
      "2\n",
      "4\n",
      "5\n",
      "5\n",
      "6\n"
     ]
    }
   ],
   "source": [
    "#April_cook_off_lift-request\n",
    "T=int(input())\n",
    "for _ in range(T):\n",
    "    N,Q=map(int,input().split())\n",
    "    l=[]\n",
    "    for i in range(Q):\n",
    "        j,k=map(int,input().split())\n",
    "        l.append(j)\n",
    "        l.append(k)\n",
    "    ans = l[0]\n",
    "    for i in range(1,len(l)):\n",
    "        ans = ans + abs(l[i]-l[i-1])\n",
    "    print(ans)"
   ]
  },
  {
   "cell_type": "code",
   "execution_count": 11,
   "metadata": {},
   "outputs": [
    {
     "name": "stdout",
     "output_type": "stream",
     "text": [
      "3\n",
      "35\n",
      "3\n",
      "69\n",
      "3\n",
      "87\n",
      "5\n"
     ]
    }
   ],
   "source": [
    "#Show_me_the_code_codechef\n",
    "import math\n",
    "T=int(input())\n",
    "for _ in range(T):\n",
    "    D=int(input())\n",
    "    count=0\n",
    "    while D>0:\n",
    "        p = int(math.log(D, 2))\n",
    "        D = D - 2**p\n",
    "        count+=1\n",
    "    print(count-1)"
   ]
  },
  {
   "cell_type": "code",
   "execution_count": 4,
   "metadata": {},
   "outputs": [
    {
     "name": "stdout",
     "output_type": "stream",
     "text": [
      "1\n",
      "4 85\n",
      "9 9 5 3\n",
      "0 1 0 1\n",
      "93\n",
      "yes\n"
     ]
    }
   ],
   "source": [
    "#April_Lunchtime_2020\n",
    "T=int(input())\n",
    "for _ in range(T):\n",
    "    N,S=map(int,input().split())\n",
    "    X=list(map(int,input().split()))\n",
    "    a=list(map(int,input().split()))\n",
    "    F=9999999999\n",
    "    D=9999999999\n",
    "    for i in range(N):\n",
    "        if a[i]==0:\n",
    "            if F>X[i]:\n",
    "                F=X[i]\n",
    "        else:\n",
    "            if D>X[i]:\n",
    "                D=X[i]\n",
    "    ans = S + F + D\n",
    "    print(ans)\n",
    "    if ans<=100:\n",
    "        print(\"yes\")\n",
    "    else:\n",
    "        print(\"no\")"
   ]
  },
  {
   "cell_type": "code",
   "execution_count": 29,
   "metadata": {},
   "outputs": [
    {
     "name": "stdout",
     "output_type": "stream",
     "text": [
      "1\n",
      "4 2\n",
      " 1 4 2 3\n",
      "no\n"
     ]
    }
   ],
   "source": [
    "#April_Lunchtime_2020\n",
    "\n",
    "T=int(input())\n",
    "for _ in range(T):\n",
    "    N,K=map(int,input().split())\n",
    "    A=list(map(int,input().split()))\n",
    "    l=A.copy()\n",
    "    k=0\n",
    "    for i in range(N):\n",
    "        m = min(A)\n",
    "        j = A.index(m)\n",
    "        if i%K != j%K and i>j:\n",
    "            k=0\n",
    "            break\n",
    "        k=1\n",
    "        A.remove(m)\n",
    "    if k==1:\n",
    "        print(\"yes\")\n",
    "    else:\n",
    "        print(\"no\")"
   ]
  },
  {
   "cell_type": "code",
   "execution_count": 12,
   "metadata": {},
   "outputs": [
    {
     "name": "stdout",
     "output_type": "stream",
     "text": [
      "1\n",
      "5\n",
      "2 2 1 2 3\n",
      "{2: 3, 1: 1, 3: 1}\n",
      "1:1\n",
      "2:3\n",
      "3:1\n"
     ]
    }
   ],
   "source": [
    "#Encoding_April_2020\n",
    "from collections import OrderedDict \n",
    "\n",
    "T=int(input())\n",
    "for _ in range(T):\n",
    "    N=int(input())\n",
    "    A=list(map(int,input().split()))\n",
    "    freq={}\n",
    "    for item in A: \n",
    "        if (item in freq): \n",
    "            freq[item] += 1\n",
    "        else: \n",
    "            freq[item] = 1\n",
    "    ans = OrderedDict(sorted(freq.items())) \n",
    "    for i,j in ans.items():\n",
    "        print(str(i)+\":\"+str(j))"
   ]
  },
  {
   "cell_type": "code",
   "execution_count": 14,
   "metadata": {},
   "outputs": [
    {
     "name": "stdout",
     "output_type": "stream",
     "text": [
      "1\n",
      "9\n",
      "hellolleh\n",
      "['h', 'e', 'l', 'll', 'l', 'o', 'lol', 'lloll', 'ellolle', 'hellolleh', 'l', 'll', 'l', 'e', 'h']\n"
     ]
    }
   ],
   "source": [
    "#Encoding_April_2020\n",
    "def substring(s, a, b): \n",
    "    s1 = \"\" \n",
    "    for i in range(a, b, 1): \n",
    "        s1 += s[i] \n",
    "  \n",
    "    return s1 \n",
    "  \n",
    "def allPalindromeSubstring(s): \n",
    "    v = [] \n",
    "    pivot = 0.0\n",
    "    while pivot < len(s):  \n",
    "        palindromeRadius = pivot - int(pivot) \n",
    "        while ((pivot + palindromeRadius) < len(s) and (pivot - palindromeRadius) >= 0 and (s[int(pivot - palindromeRadius)] == s[int(pivot + palindromeRadius)])): \n",
    "            v.append(s[int(pivot - palindromeRadius): int(pivot + palindromeRadius + 1)]) \n",
    "            palindromeRadius += 1\n",
    "        pivot += 0.5\n",
    "    return v\n",
    "\n",
    "T=int(input())\n",
    "for _ in range(T):\n",
    "    N=int(input())\n",
    "    S=input()\n",
    "    ans=allPalindromeSubstring(S)\n",
    "    print(ans)"
   ]
  },
  {
   "cell_type": "code",
   "execution_count": 16,
   "metadata": {},
   "outputs": [
    {
     "name": "stdout",
     "output_type": "stream",
     "text": [
      "1\n",
      "5\n",
      "heleh\n",
      "e\n"
     ]
    }
   ],
   "source": [
    "#Encoding_April_2020\n",
    "T=int(input())\n",
    "for _ in range(T):\n",
    "    N=int(input())\n",
    "    S=input()\n",
    "    ans=list(S)\n",
    "    ans.sort()\n",
    "    print(ans[0])"
   ]
  },
  {
   "cell_type": "code",
   "execution_count": 9,
   "metadata": {},
   "outputs": [
    {
     "name": "stdout",
     "output_type": "stream",
     "text": [
      "3\n",
      "8\n",
      "[0, 1, 0, 1, 2, 0, 1, 2, 3, 0, 1, 2, 3, 4, 0, 1, 2, 3, 4, 5, 0, 1, 2, 3, 4, 5, 6, 0, 1, 2, 3, 4, 5, 6, 7]\n",
      "2\n",
      "9\n",
      "[0, 1, 0, 1, 2, 0, 1, 2, 3, 0, 1, 2, 3, 4, 0, 1, 2, 3, 4, 5, 0, 1, 2, 3, 4, 5, 6, 0, 1, 2, 3, 4, 5, 6, 7, 0, 1, 2, 3, 4, 5, 6, 7, 8]\n",
      "3\n",
      "20\n",
      "[0, 1, 0, 1, 2, 0, 1, 2, 3, 0, 1, 2, 3, 4, 0, 1, 2, 3, 4, 5, 0, 1, 2, 3, 4, 5, 6, 0, 1, 2, 3, 4, 5, 6, 7, 0, 1, 2, 3, 4, 5, 6, 7, 8, 0, 1, 2, 3, 4, 5, 6, 7, 8, 9, 0, 1, 2, 3, 4, 5, 6, 7, 8, 9, 10, 0, 1, 2, 3, 4, 5, 6, 7, 8, 9, 10, 11, 0, 1, 2, 3, 4, 5, 6, 7, 8, 9, 10, 11, 12, 0, 1, 2, 3, 4, 5, 6, 7, 8, 9, 10, 11, 12, 13, 0, 1, 2, 3, 4, 5, 6, 7, 8, 9, 10, 11, 12, 13, 14, 0, 1, 2, 3, 4, 5, 6, 7, 8, 9, 10, 11, 12, 13, 14, 15, 0, 1, 2, 3, 4, 5, 6, 7, 8, 9, 10, 11, 12, 13, 14, 15, 16, 0, 1, 2, 3, 4, 5, 6, 7, 8, 9, 10, 11, 12, 13, 14, 15, 16, 17, 0, 1, 2, 3, 4, 5, 6, 7, 8, 9, 10, 11, 12, 13, 14, 15, 16, 17, 18, 0, 1, 2, 3, 4, 5, 6, 7, 8, 9, 10, 11, 12, 13, 14, 15, 16, 17, 18, 19]\n",
      "5\n"
     ]
    }
   ],
   "source": [
    "#Encoding_April_2020\n",
    "T=int(input())\n",
    "for _ in range(T):\n",
    "    N=int(input())\n",
    "    l=[]\n",
    "    for i in range(1,N):\n",
    "        j=0\n",
    "        while j<=i:\n",
    "            l.append(j)\n",
    "            j+=1\n",
    "    print(l)\n",
    "    print(l[N-1])"
   ]
  },
  {
   "cell_type": "code",
   "execution_count": 1,
   "metadata": {},
   "outputs": [
    {
     "name": "stdout",
     "output_type": "stream",
     "text": [
      "3\n",
      "20\n",
      "5\n",
      "32\n",
      "4\n",
      "109\n",
      "4\n"
     ]
    }
   ],
   "source": [
    "#Encoding_April_2020\n",
    "T=int(input())\n",
    "for _ in range(T):\n",
    "    N=int(input())\n",
    "    i=2\n",
    "    j=3\n",
    "    while i+j<N:\n",
    "        i = i+j\n",
    "        j+=1\n",
    "    print(N-i-1)"
   ]
  },
  {
   "cell_type": "code",
   "execution_count": 3,
   "metadata": {},
   "outputs": [
    {
     "name": "stdout",
     "output_type": "stream",
     "text": [
      "4\n",
      "a\n",
      "YES\n",
      "ab\n",
      "YES\n",
      "abcd\n",
      "NO\n",
      "aaaa\n",
      "YES\n"
     ]
    }
   ],
   "source": [
    "#REcode\n",
    "T=int(input())\n",
    "for _ in range(T):\n",
    "    S=list(input())\n",
    "    l=S[1:]\n",
    "    l.append(S[0])\n",
    "    r=S[:len(S)-1]\n",
    "    r.insert(0,S[-1])\n",
    "    if l==r:\n",
    "        print(\"YES\")\n",
    "    else:\n",
    "        print(\"NO\")"
   ]
  },
  {
   "cell_type": "code",
   "execution_count": 3,
   "metadata": {},
   "outputs": [
    {
     "name": "stdout",
     "output_type": "stream",
     "text": [
      "2\n",
      "7 9 8 12\n",
      "3 4 5\n",
      "3 8 7 9\n",
      "1 2 6\n"
     ]
    }
   ],
   "source": [
    "#Codewar\n",
    "T=int(input())\n",
    "for _ in range(T):\n",
    "    a,b,c,d=map(int,input().split())\n",
    "    print(str(d-b)+\" \"+str(d-c)+\" \"+str(d-a))"
   ]
  },
  {
   "cell_type": "code",
   "execution_count": 24,
   "metadata": {},
   "outputs": [
    {
     "name": "stdout",
     "output_type": "stream",
     "text": [
      "1\n",
      "12 9 8 1\n",
      "72\n"
     ]
    }
   ],
   "source": [
    "from itertools import combinations\n",
    "def gcd(a,b): \n",
    "    if a == 0: \n",
    "        return b \n",
    "    return gcd(b % a, a) \n",
    "  \n",
    "def lcm(a,b): \n",
    "    return (a*b) / gcd(a,b)\n",
    "\n",
    "T=int(input())\n",
    "l=0\n",
    "A=list(map(int,input().split()))\n",
    "comb = combinations(A,2)\n",
    "for i in comb:\n",
    "    s=lcm(i[0],i[1])\n",
    "    if l<s:\n",
    "        l=s\n",
    "print(int(l))"
   ]
  },
  {
   "cell_type": "code",
   "execution_count": 3,
   "metadata": {},
   "outputs": [
    {
     "name": "stdout",
     "output_type": "stream",
     "text": [
      "1\n",
      "3\n",
      "1 0 0\n",
      "0 1 0\n",
      "1 0 0\n",
      "SAFE\n"
     ]
    }
   ],
   "source": [
    "#Quarantest\n",
    "def isValid(c, n) : \n",
    "    X = [ 0, -1, 0, 1] \n",
    "    Y = [ 1, 0, -1, 0] \n",
    "    isValid = True \n",
    "    for i in range(n) : \n",
    "        for j in range(n) : \n",
    "            if c[i][j]==1:\n",
    "                for k in range(4) : \n",
    "                    newX = i + X[k] \n",
    "                    newY = j + Y[k] \n",
    "                    if (newX < n and newY < n and newX >= 0 and newY >= 0 and c[newX][newY] ==1) : \n",
    "                        isValid = False\n",
    "                        break\n",
    "        if isValid==False:\n",
    "            break\n",
    "    return isValid\n",
    "\n",
    "T=int(input())\n",
    "for _ in range(T):\n",
    "    L=[[]]\n",
    "    N=int(input())\n",
    "    for j in range(N):\n",
    "        l=list(map(int,input().split()))\n",
    "        L.append(l)\n",
    "    L.remove([])\n",
    "    if isValid(L,N)==True:\n",
    "               print(\"SAFE\")\n",
    "    else:\n",
    "        print(\"UNSAFE\")"
   ]
  },
  {
   "cell_type": "code",
   "execution_count": 25,
   "metadata": {},
   "outputs": [
    {
     "name": "stdout",
     "output_type": "stream",
     "text": [
      "10\n",
      "0 3 3 1655555 5656565 89 56 89 52 0\n",
      "2 5 1655556 5656566 91 57 53 "
     ]
    }
   ],
   "source": [
    "#Quarantest\n",
    "N=int(input())\n",
    "l=list(map(int,input().split()))\n",
    "p=[]\n",
    "for i in l:\n",
    "    if i not in p:\n",
    "        print(i+l.count(i),end=\" \")\n",
    "    p.append(i)"
   ]
  },
  {
   "cell_type": "code",
   "execution_count": 10,
   "metadata": {},
   "outputs": [
    {
     "name": "stdout",
     "output_type": "stream",
     "text": [
      "3\n",
      "2\n",
      "3 6\n",
      "[1, 1]\n",
      "1 1\n",
      "3\n",
      "1 3 5\n",
      "[3, 3, 3]\n",
      "3 3\n",
      "5\n",
      "1 2 5 6 7\n",
      "[2, 2, 3, 3, 3]\n",
      "2 3\n"
     ]
    }
   ],
   "source": [
    "#May_Challenge\n",
    "T=int(input())\n",
    "for _ in range(T):\n",
    "    N=int(input())\n",
    "    l=list(map(int,input().split()))\n",
    "    ans=[]\n",
    "    for i in range(N):\n",
    "            count=1\n",
    "            j=i-1\n",
    "            k=i+1\n",
    "            while j>=0:\n",
    "                if abs(l[j+1]-l[j])<=2:\n",
    "                    count+=1\n",
    "                    j-=1\n",
    "                else:\n",
    "                    break\n",
    "            while k<N:\n",
    "                if abs(l[k-1]-l[k])<=2:\n",
    "                    count+=1\n",
    "                    k+=1\n",
    "                else:\n",
    "                    break\n",
    "            ans.append(count)\n",
    "    print(min(ans),max(ans))"
   ]
  },
  {
   "cell_type": "code",
   "execution_count": 5,
   "metadata": {},
   "outputs": [
    {
     "name": "stdout",
     "output_type": "stream",
     "text": [
      "1\n",
      "20 2\n",
      "stayinghomesaveslife\n",
      "1\n",
      "6\n",
      "3\n",
      "0\n"
     ]
    }
   ],
   "source": [
    "#May_Challenge\n",
    "from collections import Counter\n",
    "T=int(input())\n",
    "for _ in range(T):\n",
    "    N,Q=map(int,input().split())\n",
    "    S=list(input())\n",
    "    D=Counter(S)\n",
    "    for _ in range(Q):\n",
    "        q=int(input())\n",
    "        ans=0\n",
    "        for i in D:\n",
    "            if D[i]>q:\n",
    "                ans = ans+D[i]-q\n",
    "        print(ans)"
   ]
  },
  {
   "cell_type": "code",
   "execution_count": 26,
   "metadata": {},
   "outputs": [
    {
     "name": "stdout",
     "output_type": "stream",
     "text": [
      "1\n",
      "5 10 1 40\n",
      "{40: 0, 39: 5, 38: 4, 37: 5, 36: 4, 35: 1, 34: 0, 33: 1, 32: 0, 31: 5, 30: 4, 29: 5, 28: 4, 27: 1, 26: 0, 25: 1, 24: 0, 23: 5, 22: 4, 21: 5, 20: 4, 19: 1, 18: 0, 17: 1, 16: 0, 15: 5, 14: 4, 13: 5, 12: 4, 11: 1, 10: 0, 9: 1, 8: 0, 7: 5, 6: 4, 5: 5, 4: 4, 3: 1, 2: 0, 1: 1}\n",
      "{40: 8, 39: 2, 38: 2, 37: 0, 36: 0, 35: 2, 34: 2, 33: 0, 32: 0, 31: 10, 30: 10, 29: 8, 28: 8, 27: 10, 26: 10, 25: 8, 24: 8, 23: 2, 22: 2, 21: 0, 20: 0, 19: 2, 18: 2, 17: 0, 16: 0, 15: 10, 14: 10, 13: 8, 12: 8, 11: 10, 10: 10, 9: 8, 8: 8, 7: 2, 6: 2, 5: 0, 4: 0, 3: 2, 2: 2, 1: 0}\n",
      "{40: 0, 39: 10, 38: 8, 37: 0, 36: 0, 35: 2, 34: 0, 33: 0, 32: 0, 31: 50, 30: 40, 29: 40, 28: 32, 27: 10, 26: 0, 25: 8, 24: 0, 23: 10, 22: 8, 21: 0, 20: 0, 19: 2, 18: 0, 17: 0, 16: 0, 15: 50, 14: 40, 13: 40, 12: 32, 11: 10, 10: 0, 9: 8, 8: 0, 7: 10, 6: 8, 5: 0, 4: 0, 3: 2, 2: 0, 1: 0}\n"
     ]
    }
   ],
   "source": [
    "#May_Challenge\n",
    "for _ in range(int(input())):\n",
    "    x,y,l,r=map(int,input().split())\n",
    "    a={}\n",
    "    b={}\n",
    "    ansi={}\n",
    "    m=-1\n",
    "    for i in range(r,l-1,-1):\n",
    "        a[i]=x&i\n",
    "        b[i]=y&i\n",
    "        ansi[i]=((x&i)*(y&i))\n",
    "        if m<((x&i)*(y&i)):\n",
    "            m=((x&i)*(y&i))\n",
    "    print(a)\n",
    "    print(b)\n",
    "    print(ansi)"
   ]
  },
  {
   "cell_type": "code",
   "execution_count": 13,
   "metadata": {},
   "outputs": [
    {
     "data": {
      "text/plain": [
       "0"
      ]
     },
     "execution_count": 13,
     "metadata": {},
     "output_type": "execute_result"
    }
   ],
   "source": [
    "(7&19)*(12&19)"
   ]
  },
  {
   "cell_type": "code",
   "execution_count": 48,
   "metadata": {},
   "outputs": [
    {
     "name": "stdout",
     "output_type": "stream",
     "text": [
      "3 2\n",
      "2\n",
      "1 3\n",
      "1\n",
      "3\n",
      "1\n"
     ]
    }
   ],
   "source": [
    "#Atcoder\n",
    "N,K=map(int,input().split())\n",
    "ans={k:0 for k in range(1,N+1)}\n",
    "for i in range(1,K+1):\n",
    "    d=int(input())\n",
    "    l=list(map(int,input().split()))\n",
    "    for item in l:\n",
    "        ans[item]=ans[item]+1 \n",
    "count=0\n",
    "for i in ans:\n",
    "    if ans[i]==0:\n",
    "        count+=1\n",
    "print(count)"
   ]
  },
  {
   "cell_type": "code",
   "execution_count": 6,
   "metadata": {},
   "outputs": [
    {
     "name": "stdout",
     "output_type": "stream",
     "text": [
      "1\n",
      "5\n",
      "2 3 4 1 4\n",
      "[2]\n",
      "[4, 1, 4]\n",
      "[2, 3]\n",
      "[1, 4]\n",
      "[2, 3, 4]\n",
      "[4]\n",
      "{}\n"
     ]
    }
   ],
   "source": [
    "ans={}\n",
    "for _ in range(int(input())):\n",
    "    n=int(input())\n",
    "    l=list(map(int,input().split()))\n",
    "    for i in range(1,n-1):\n",
    "        ans1,ans2=0,0\n",
    "        print(l[:i])\n",
    "        print(l[i+1:])\n",
    "        if sum(l[:i-1])==sum(l[i+1:]):\n",
    "            ans[i]=sum(l[i+1:])\n",
    "print(ans)"
   ]
  },
  {
   "cell_type": "code",
   "execution_count": null,
   "metadata": {},
   "outputs": [],
   "source": [
    "#May Cook off\n",
    "for _ in range(int(input())):\n",
    "    n=int(input())\n",
    "    l=list(map(int, input().split()))\n",
    "    i,j=0,1\n",
    "    ans=[]\n",
    "    p=[]\n",
    "    while i<n and j<n:\n",
    "        if l[i]==l[j]:\n",
    "            j+=1 \n",
    "        else:\n",
    "            p.append(j-i)\n",
    "            ans.append(l[i])\n",
    "            i=j \n",
    "            j+=1\n",
    "    ans.append(l[j-1])\n",
    "    p.append(j-i)\n",
    "    s=set(ans)\n",
    "    t=set(p)\n",
    "    if len(s)!=len(ans) or len(t)!=len(p):\n",
    "        print(\"NO\")\n",
    "    else:\n",
    "        print(\"YES\")"
   ]
  },
  {
   "cell_type": "code",
   "execution_count": null,
   "metadata": {},
   "outputs": [],
   "source": [
    "#May Cook off\n",
    "for _ in range(int(input())):\n",
    "    s=input()\n",
    "    n=len(s)\n",
    "    count=0\n",
    "    for i in range(1,n):\n",
    "        k=(n-(2*i))//2\n",
    "        if k<=0:\n",
    "            break\n",
    "        if s[:i]==s[i:2*i] and s[2*i:k+2*i]==s[k+2*i:n]:\n",
    "            count+=1\n",
    "    print(count)"
   ]
  }
 ],
 "metadata": {
  "kernelspec": {
   "display_name": "Python 3",
   "language": "python",
   "name": "python3"
  },
  "language_info": {
   "codemirror_mode": {
    "name": "ipython",
    "version": 3
   },
   "file_extension": ".py",
   "mimetype": "text/x-python",
   "name": "python",
   "nbconvert_exporter": "python",
   "pygments_lexer": "ipython3",
   "version": "3.7.3"
  }
 },
 "nbformat": 4,
 "nbformat_minor": 2
}
